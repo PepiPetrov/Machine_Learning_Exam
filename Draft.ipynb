{
 "cells": [
  {
   "cell_type": "markdown",
   "id": "cb09837a",
   "metadata": {
    "papermill": {
     "duration": 0.020825,
     "end_time": "2021-12-08T06:05:08.360373",
     "exception": false,
     "start_time": "2021-12-08T06:05:08.339548",
     "status": "completed"
    },
    "tags": []
   },
   "source": [
    "### About the Dataset:\n",
    "\n",
    "1. id: unique id for a news article\n",
    "2. title: the title of a news article\n",
    "3. author: author of the news article\n",
    "4. text: the text of the article; could be incomplete\n",
    "5. label: a label that marks whether the news article is real or fake:\n",
    "           1: Fake news\n",
    "           0: Real News"
   ]
  },
  {
   "cell_type": "code",
   "execution_count": 1,
   "id": "eba7ea4c",
   "metadata": {
    "execution": {
     "iopub.execute_input": "2021-12-08T06:05:08.448004Z",
     "iopub.status.busy": "2021-12-08T06:05:08.447336Z",
     "iopub.status.idle": "2021-12-08T06:05:10.410568Z",
     "shell.execute_reply": "2021-12-08T06:05:10.411148Z",
     "shell.execute_reply.started": "2021-12-08T06:00:07.462234Z"
    },
    "papermill": {
     "duration": 1.991732,
     "end_time": "2021-12-08T06:05:10.411521",
     "exception": false,
     "start_time": "2021-12-08T06:05:08.419789",
     "status": "completed"
    },
    "tags": []
   },
   "outputs": [],
   "source": [
    "import re\n",
    "\n",
    "import numpy as np\n",
    "import matplotlib.pyplot as plt\n",
    "\n",
    "import pandas as pd\n",
    "\n",
    "import itertools\n",
    "import time"
   ]
  },
  {
   "cell_type": "code",
   "execution_count": 3,
   "id": "097406b9",
   "metadata": {},
   "outputs": [],
   "source": [
    "from sklearn.experimental import enable_halving_search_cv\n",
    "\n",
    "from sklearn.feature_extraction.text import HashingVectorizer, TfidfVectorizer\n",
    "\n",
    "from sklearn.tree import DecisionTreeClassifier, plot_tree\n",
    "\n",
    "from sklearn.linear_model import PassiveAggressiveClassifier, SGDClassifier, RidgeClassifier, LogisticRegression, Perceptron \n",
    "\n",
    "from sklearn.ensemble import RandomForestClassifier, AdaBoostClassifier\n",
    "from sklearn.ensemble import BaggingClassifier, VotingClassifier, StackingClassifier\n",
    "\n",
    "from sklearn.svm import LinearSVC\n",
    "\n",
    "from sklearn.naive_bayes import MultinomialNB\n",
    "\n",
    "from sklearn.neighbors import KNeighborsClassifier\n",
    "\n",
    "from sklearn.neural_network import MLPClassifier\n",
    "\n",
    "from sklearn.model_selection import train_test_split, GridSearchCV, cross_val_score, HalvingGridSearchCV, HalvingRandomSearchCV\n",
    "from sklearn.metrics import accuracy_score, classification_report, confusion_matrix, RocCurveDisplay\n",
    "\n",
    "from sklearn.calibration import CalibratedClassifierCV\n",
    "\n",
    "from sklearn.pipeline import Pipeline\n",
    "from sklearn.base import BaseEstimator, TransformerMixin\n",
    "\n",
    "import joblib as jl"
   ]
  },
  {
   "cell_type": "code",
   "execution_count": null,
   "id": "7ec98ead",
   "metadata": {},
   "outputs": [],
   "source": [
    "from sklearn import set_config\n",
    "\n",
    "set_config(display = 'diagram')"
   ]
  },
  {
   "cell_type": "code",
   "execution_count": 10,
   "id": "39b72784",
   "metadata": {},
   "outputs": [
    {
     "name": "stderr",
     "output_type": "stream",
     "text": [
      "[nltk_data] Downloading package punkt to\n",
      "[nltk_data]     C:\\Users\\pepi_\\AppData\\Roaming\\nltk_data...\n",
      "[nltk_data]   Package punkt is already up-to-date!\n",
      "[nltk_data] Downloading package stopwords to\n",
      "[nltk_data]     C:\\Users\\pepi_\\AppData\\Roaming\\nltk_data...\n",
      "[nltk_data]   Package stopwords is already up-to-date!\n",
      "[nltk_data] Downloading package omw-1.4 to\n",
      "[nltk_data]     C:\\Users\\pepi_\\AppData\\Roaming\\nltk_data...\n",
      "[nltk_data]   Package omw-1.4 is already up-to-date!\n",
      "[nltk_data] Downloading package wordnet to\n",
      "[nltk_data]     C:\\Users\\pepi_\\AppData\\Roaming\\nltk_data...\n",
      "[nltk_data]   Package wordnet is already up-to-date!\n"
     ]
    },
    {
     "data": {
      "text/plain": [
       "True"
      ]
     },
     "execution_count": 10,
     "metadata": {},
     "output_type": "execute_result"
    }
   ],
   "source": [
    "import nltk\n",
    "from nltk.corpus import stopwords\n",
    "from nltk.stem import WordNetLemmatizer\n",
    "\n",
    "from wordcloud import WordCloud, STOPWORDS\n",
    "\n",
    "nltk.download('punkt')\n",
    "nltk.download(\"stopwords\")\n",
    "nltk.download('omw-1.4')\n",
    "nltk.download('wordnet')"
   ]
  },
  {
   "cell_type": "code",
   "execution_count": null,
   "id": "e141f921",
   "metadata": {
    "execution": {
     "iopub.execute_input": "2021-12-08T06:05:10.459980Z",
     "iopub.status.busy": "2021-12-08T06:05:10.459294Z",
     "iopub.status.idle": "2021-12-08T06:05:13.330245Z",
     "shell.execute_reply": "2021-12-08T06:05:13.329589Z",
     "shell.execute_reply.started": "2021-12-08T06:00:09.422343Z"
    },
    "papermill": {
     "duration": 2.898224,
     "end_time": "2021-12-08T06:05:13.330443",
     "exception": false,
     "start_time": "2021-12-08T06:05:10.432219",
     "status": "completed"
    },
    "tags": []
   },
   "outputs": [],
   "source": [
    "isot_true_news_dataset = pd.read_csv('data/additional_train_test_data/isot_news/True.csv')"
   ]
  },
  {
   "cell_type": "code",
   "execution_count": null,
   "id": "36dc44b6",
   "metadata": {},
   "outputs": [],
   "source": [
    "isot_fake_news_dataset = pd.read_csv(\"data/additional_train_test_data/isot_news/Fake.csv\")"
   ]
  },
  {
   "cell_type": "code",
   "execution_count": null,
   "id": "f953bc44",
   "metadata": {},
   "outputs": [],
   "source": [
    "isot_true_news_dataset[\"label\"] = 0\n",
    "isot_fake_news_dataset[\"label\"] = 1"
   ]
  },
  {
   "cell_type": "code",
   "execution_count": null,
   "id": "de193d72",
   "metadata": {},
   "outputs": [],
   "source": [
    "source_based_fake_news_classification = pd.read_csv(\"data/additional_train_test_data/source_based_fake_news_classification/news_articles.csv\")"
   ]
  },
  {
   "cell_type": "code",
   "execution_count": null,
   "id": "7b981ddd",
   "metadata": {},
   "outputs": [],
   "source": [
    "source_based_fake_news_classification.isna().sum()"
   ]
  },
  {
   "cell_type": "code",
   "execution_count": null,
   "id": "093a6f7f",
   "metadata": {},
   "outputs": [],
   "source": [
    "source_based_fake_news_classification = source_based_fake_news_classification[[\"title\", \"text\", \"label\"]]"
   ]
  },
  {
   "cell_type": "code",
   "execution_count": null,
   "id": "ed03461d",
   "metadata": {},
   "outputs": [],
   "source": [
    "welfake = pd.read_csv(\"data/additional_train_test_data/WELFake/WELFake_Dataset.csv\")"
   ]
  },
  {
   "cell_type": "code",
   "execution_count": null,
   "id": "1cbf717a",
   "metadata": {},
   "outputs": [],
   "source": [
    "welfake.head()"
   ]
  },
  {
   "cell_type": "code",
   "execution_count": null,
   "id": "8f4152eb",
   "metadata": {},
   "outputs": [],
   "source": [
    "welfake = welfake[[\"title\", \"text\", \"label\"]]"
   ]
  },
  {
   "cell_type": "code",
   "execution_count": null,
   "id": "ac32aae2",
   "metadata": {},
   "outputs": [],
   "source": [
    "fake_real_dataset_fake = pd.read_csv(\"data/additional_train_test_data/fake-and-real/Fake.csv\")"
   ]
  },
  {
   "cell_type": "code",
   "execution_count": null,
   "id": "00de11f5",
   "metadata": {},
   "outputs": [],
   "source": [
    "fake_real_dataset_fake.shape"
   ]
  },
  {
   "cell_type": "code",
   "execution_count": null,
   "id": "c8d5d5f3",
   "metadata": {},
   "outputs": [],
   "source": [
    "fake_real_dataset_fake.head()"
   ]
  },
  {
   "cell_type": "code",
   "execution_count": null,
   "id": "5b1918c9",
   "metadata": {},
   "outputs": [],
   "source": [
    "fake_real_dataset_fake[\"label\"] = 1"
   ]
  },
  {
   "cell_type": "code",
   "execution_count": null,
   "id": "b09a215b",
   "metadata": {},
   "outputs": [],
   "source": [
    "fake_real_dataset_real = pd.read_csv(\"data/additional_train_test_data/fake-and-real/True.csv\")"
   ]
  },
  {
   "cell_type": "code",
   "execution_count": null,
   "id": "1505836a",
   "metadata": {},
   "outputs": [],
   "source": [
    "fake_real_dataset_real.shape"
   ]
  },
  {
   "cell_type": "code",
   "execution_count": null,
   "id": "6bd55884",
   "metadata": {},
   "outputs": [],
   "source": [
    "fake_real_dataset_real.head()"
   ]
  },
  {
   "cell_type": "code",
   "execution_count": null,
   "id": "ef870df6",
   "metadata": {},
   "outputs": [],
   "source": [
    "fake_real_dataset_real[\"label\"] = 0"
   ]
  },
  {
   "cell_type": "code",
   "execution_count": null,
   "id": "c7dac63d",
   "metadata": {},
   "outputs": [],
   "source": [
    "additional_data = pd.read_csv(\"data/fake_or_real_news.csv\")\n",
    "\n",
    "\n",
    "additional_data = additional_data.rename(columns = {\"Unnamed: 0\": \"id\"})\n",
    "\n",
    "additional_data.label = additional_data.label.replace([\"REAL\", \"FAKE\"], [0, 1])\n",
    "\n",
    "additional_data = additional_data[[\"title\", \"text\", \"label\"]]"
   ]
  },
  {
   "cell_type": "code",
   "execution_count": null,
   "id": "4c9d3b5f",
   "metadata": {
    "scrolled": true
   },
   "outputs": [],
   "source": [
    "additional_data"
   ]
  },
  {
   "cell_type": "code",
   "execution_count": null,
   "id": "eca70121",
   "metadata": {},
   "outputs": [],
   "source": [
    "data = pd.read_csv(\"data/additional_train_test_data/data.csv\")"
   ]
  },
  {
   "cell_type": "code",
   "execution_count": null,
   "id": "e79519c3",
   "metadata": {},
   "outputs": [],
   "source": [
    "data.shape"
   ]
  },
  {
   "cell_type": "code",
   "execution_count": null,
   "id": "9eef048e",
   "metadata": {
    "scrolled": true
   },
   "outputs": [],
   "source": [
    "data.head()"
   ]
  },
  {
   "cell_type": "code",
   "execution_count": null,
   "id": "3d843c5e",
   "metadata": {},
   "outputs": [],
   "source": [
    "data = data.drop(columns = [\"URLs\"])"
   ]
  },
  {
   "cell_type": "code",
   "execution_count": null,
   "id": "af060815",
   "metadata": {},
   "outputs": [],
   "source": [
    "data.columns = [\"title\", \"text\", \"label\"]"
   ]
  },
  {
   "cell_type": "code",
   "execution_count": null,
   "id": "68e1413d",
   "metadata": {},
   "outputs": [],
   "source": [
    "news_dataset = pd.concat([isot_true_news_dataset, isot_fake_news_dataset, source_based_fake_news_classification, welfake, fake_real_dataset_fake, fake_real_dataset_real, data])"
   ]
  },
  {
   "cell_type": "code",
   "execution_count": null,
   "id": "075f31e3",
   "metadata": {
    "execution": {
     "iopub.execute_input": "2021-12-08T06:05:13.379572Z",
     "iopub.status.busy": "2021-12-08T06:05:13.378926Z",
     "iopub.status.idle": "2021-12-08T06:05:13.394847Z",
     "shell.execute_reply": "2021-12-08T06:05:13.395349Z",
     "shell.execute_reply.started": "2021-12-08T06:00:12.381076Z"
    },
    "papermill": {
     "duration": 0.044848,
     "end_time": "2021-12-08T06:05:13.395550",
     "exception": false,
     "start_time": "2021-12-08T06:05:13.350702",
     "status": "completed"
    },
    "scrolled": true,
    "tags": []
   },
   "outputs": [],
   "source": [
    "news_dataset.head()"
   ]
  },
  {
   "cell_type": "code",
   "execution_count": null,
   "id": "2742dea6",
   "metadata": {},
   "outputs": [],
   "source": [
    "news_dataset.label = news_dataset.label.replace({\"Fake\": 1, \"Real\": 0})"
   ]
  },
  {
   "cell_type": "code",
   "execution_count": null,
   "id": "e9350b98",
   "metadata": {},
   "outputs": [],
   "source": [
    "news_dataset.label.value_counts()"
   ]
  },
  {
   "cell_type": "code",
   "execution_count": null,
   "id": "5737d7ad",
   "metadata": {},
   "outputs": [],
   "source": [
    "news_dataset = news_dataset[~news_dataset.label.isna()]"
   ]
  },
  {
   "cell_type": "code",
   "execution_count": null,
   "id": "a042ca39",
   "metadata": {},
   "outputs": [],
   "source": [
    "news_dataset.isna().sum()"
   ]
  },
  {
   "cell_type": "code",
   "execution_count": null,
   "id": "61801895",
   "metadata": {},
   "outputs": [],
   "source": [
    "news_dataset = news_dataset[[\"title\", \"text\", \"label\"]]"
   ]
  },
  {
   "cell_type": "code",
   "execution_count": null,
   "id": "8eda4403",
   "metadata": {},
   "outputs": [],
   "source": [
    "news_dataset = news_dataset.fillna('')"
   ]
  },
  {
   "cell_type": "code",
   "execution_count": null,
   "id": "77edbfe8",
   "metadata": {},
   "outputs": [],
   "source": [
    "news_dataset.isna().sum()"
   ]
  },
  {
   "cell_type": "code",
   "execution_count": null,
   "id": "6dd08cce",
   "metadata": {},
   "outputs": [],
   "source": [
    "news_dataset.shape"
   ]
  },
  {
   "cell_type": "markdown",
   "id": "295ed848",
   "metadata": {
    "papermill": {
     "duration": 0.020321,
     "end_time": "2021-12-08T06:05:13.436578",
     "exception": false,
     "start_time": "2021-12-08T06:05:13.416257",
     "status": "completed"
    },
    "tags": []
   },
   "source": [
    "# EDA"
   ]
  },
  {
   "cell_type": "code",
   "execution_count": null,
   "id": "90f1ab5e",
   "metadata": {
    "execution": {
     "iopub.execute_input": "2021-12-08T06:05:13.485337Z",
     "iopub.status.busy": "2021-12-08T06:05:13.484648Z",
     "iopub.status.idle": "2021-12-08T06:05:13.490593Z",
     "shell.execute_reply": "2021-12-08T06:05:13.490140Z",
     "shell.execute_reply.started": "2021-12-08T06:00:12.407235Z"
    },
    "papermill": {
     "duration": 0.032263,
     "end_time": "2021-12-08T06:05:13.490738",
     "exception": false,
     "start_time": "2021-12-08T06:05:13.458475",
     "status": "completed"
    },
    "tags": []
   },
   "outputs": [],
   "source": [
    "news_dataset.shape"
   ]
  },
  {
   "cell_type": "code",
   "execution_count": null,
   "id": "9b89f254",
   "metadata": {
    "execution": {
     "iopub.execute_input": "2021-12-08T06:05:13.549975Z",
     "iopub.status.busy": "2021-12-08T06:05:13.546979Z",
     "iopub.status.idle": "2021-12-08T06:05:13.552622Z",
     "shell.execute_reply": "2021-12-08T06:05:13.553089Z",
     "shell.execute_reply.started": "2021-12-08T06:00:12.414408Z"
    },
    "papermill": {
     "duration": 0.041294,
     "end_time": "2021-12-08T06:05:13.553276",
     "exception": false,
     "start_time": "2021-12-08T06:05:13.511982",
     "status": "completed"
    },
    "scrolled": false,
    "tags": []
   },
   "outputs": [],
   "source": [
    "news_dataset.isnull().sum()"
   ]
  },
  {
   "cell_type": "code",
   "execution_count": null,
   "id": "91b0546b",
   "metadata": {
    "scrolled": true
   },
   "outputs": [],
   "source": [
    "news_dataset.label.value_counts()"
   ]
  },
  {
   "cell_type": "code",
   "execution_count": null,
   "id": "10863269",
   "metadata": {},
   "outputs": [],
   "source": [
    "news_dataset = news_dataset.fillna(value = {\"title\": \"\", \"text\": \"\"})"
   ]
  },
  {
   "cell_type": "code",
   "execution_count": null,
   "id": "f511ecaa",
   "metadata": {},
   "outputs": [],
   "source": [
    "news_dataset.isna().any()"
   ]
  },
  {
   "cell_type": "code",
   "execution_count": null,
   "id": "96eec342",
   "metadata": {
    "execution": {
     "iopub.execute_input": "2021-12-08T06:05:13.781809Z",
     "iopub.status.busy": "2021-12-08T06:05:13.781159Z",
     "iopub.status.idle": "2021-12-08T06:05:13.800521Z",
     "shell.execute_reply": "2021-12-08T06:05:13.799952Z",
     "shell.execute_reply.started": "2021-12-08T06:00:12.507343Z"
    },
    "papermill": {
     "duration": 0.044433,
     "end_time": "2021-12-08T06:05:13.800683",
     "exception": false,
     "start_time": "2021-12-08T06:05:13.756250",
     "status": "completed"
    },
    "tags": []
   },
   "outputs": [],
   "source": [
    "X = news_dataset.drop(columns='label', axis=1)\n",
    "Y = news_dataset['label']"
   ]
  },
  {
   "cell_type": "code",
   "execution_count": null,
   "id": "8a014f14",
   "metadata": {},
   "outputs": [],
   "source": [
    "len(news_dataset)"
   ]
  },
  {
   "cell_type": "code",
   "execution_count": null,
   "id": "1b51a420",
   "metadata": {
    "scrolled": true
   },
   "outputs": [],
   "source": [
    "len(news_dataset[news_dataset.label == 1])"
   ]
  },
  {
   "cell_type": "code",
   "execution_count": null,
   "id": "910ce5f4",
   "metadata": {},
   "outputs": [],
   "source": [
    "len(news_dataset[news_dataset.label == 0])"
   ]
  },
  {
   "cell_type": "code",
   "execution_count": null,
   "id": "db8f80be",
   "metadata": {
    "execution": {
     "iopub.execute_input": "2021-12-08T06:05:13.855533Z",
     "iopub.status.busy": "2021-12-08T06:05:13.854803Z",
     "iopub.status.idle": "2021-12-08T06:05:13.858086Z",
     "shell.execute_reply": "2021-12-08T06:05:13.858778Z",
     "shell.execute_reply.started": "2021-12-08T06:00:12.538935Z"
    },
    "papermill": {
     "duration": 0.036922,
     "end_time": "2021-12-08T06:05:13.859056",
     "exception": false,
     "start_time": "2021-12-08T06:05:13.822134",
     "status": "completed"
    },
    "scrolled": true,
    "tags": []
   },
   "outputs": [],
   "source": [
    "print(X,'\\n\\n\\n\\n',Y)"
   ]
  },
  {
   "cell_type": "markdown",
   "id": "db98c191",
   "metadata": {
    "papermill": {
     "duration": 0.021393,
     "end_time": "2021-12-08T06:05:13.903654",
     "exception": false,
     "start_time": "2021-12-08T06:05:13.882261",
     "status": "completed"
    },
    "tags": []
   },
   "source": [
    "# Lemmatization"
   ]
  },
  {
   "cell_type": "code",
   "execution_count": null,
   "id": "6874abc4",
   "metadata": {
    "execution": {
     "iopub.execute_input": "2021-12-08T06:05:13.950647Z",
     "iopub.status.busy": "2021-12-08T06:05:13.950092Z",
     "iopub.status.idle": "2021-12-08T06:05:13.953938Z",
     "shell.execute_reply": "2021-12-08T06:05:13.954406Z",
     "shell.execute_reply.started": "2021-12-08T06:00:12.554635Z"
    },
    "papermill": {
     "duration": 0.029194,
     "end_time": "2021-12-08T06:05:13.954583",
     "exception": false,
     "start_time": "2021-12-08T06:05:13.925389",
     "status": "completed"
    },
    "tags": []
   },
   "outputs": [],
   "source": [
    "lemma = WordNetLemmatizer()"
   ]
  },
  {
   "cell_type": "code",
   "execution_count": null,
   "id": "a541be05",
   "metadata": {
    "execution": {
     "iopub.execute_input": "2021-12-08T06:05:14.003041Z",
     "iopub.status.busy": "2021-12-08T06:05:14.002309Z",
     "iopub.status.idle": "2021-12-08T06:05:14.006764Z",
     "shell.execute_reply": "2021-12-08T06:05:14.007307Z",
     "shell.execute_reply.started": "2021-12-08T06:00:12.566989Z"
    },
    "papermill": {
     "duration": 0.031151,
     "end_time": "2021-12-08T06:05:14.007503",
     "exception": false,
     "start_time": "2021-12-08T06:05:13.976352",
     "status": "completed"
    },
    "tags": []
   },
   "outputs": [],
   "source": [
    "def stemming(data):\n",
    "    \n",
    "    stemmed_content = re.sub('[^a-zA-Z]',' ',data)\n",
    "    stemmed_content = stemmed_content.lower()\n",
    "    stemmed_content = stemmed_content.split()\n",
    "    stemmed_content = [lemma.lemmatize(word) for word in stemmed_content if not word in stopwords.words(\"english\")]\n",
    "    stemmed_content = ' '.join(stemmed_content)\n",
    "    \n",
    "    return stemmed_content"
   ]
  },
  {
   "cell_type": "code",
   "execution_count": null,
   "id": "464176d7",
   "metadata": {
    "execution": {
     "iopub.execute_input": "2021-12-08T06:05:14.058187Z",
     "iopub.status.busy": "2021-12-08T06:05:14.057559Z",
     "iopub.status.idle": "2021-12-08T06:05:54.156801Z",
     "shell.execute_reply": "2021-12-08T06:05:54.157339Z",
     "shell.execute_reply.started": "2021-12-08T06:00:12.580919Z"
    },
    "papermill": {
     "duration": 40.128266,
     "end_time": "2021-12-08T06:05:54.157554",
     "exception": false,
     "start_time": "2021-12-08T06:05:14.029288",
     "status": "completed"
    },
    "tags": []
   },
   "outputs": [],
   "source": [
    "news_dataset['title'] = news_dataset['title'].apply(stemming)"
   ]
  },
  {
   "cell_type": "markdown",
   "id": "879a294f",
   "metadata": {
    "papermill": {
     "duration": 0.021502,
     "end_time": "2021-12-08T06:05:54.201163",
     "exception": false,
     "start_time": "2021-12-08T06:05:54.179661",
     "status": "completed"
    },
    "tags": []
   },
   "source": [
    "# Visualizing"
   ]
  },
  {
   "cell_type": "code",
   "execution_count": null,
   "id": "fd80c8a1",
   "metadata": {
    "execution": {
     "iopub.execute_input": "2021-12-08T06:05:54.254818Z",
     "iopub.status.busy": "2021-12-08T06:05:54.251395Z",
     "iopub.status.idle": "2021-12-08T06:05:54.878910Z",
     "shell.execute_reply": "2021-12-08T06:05:54.879417Z",
     "shell.execute_reply.started": "2021-12-08T06:00:58.499213Z"
    },
    "papermill": {
     "duration": 0.656977,
     "end_time": "2021-12-08T06:05:54.879619",
     "exception": false,
     "start_time": "2021-12-08T06:05:54.222642",
     "status": "completed"
    },
    "tags": []
   },
   "outputs": [],
   "source": [
    "wordcloud = WordCloud(\n",
    "                        background_color='black',\n",
    "                        stopwords=STOPWORDS,\n",
    "                        max_words=200, \n",
    "                        random_state=42).generate(str(news_dataset['title']))\n",
    "\n",
    "plt.figure(figsize=(15,10))\n",
    "plt.axis(\"off\")\n",
    "plt.title(\"Words frequented in text\", fontsize=15)\n",
    "plt.imshow(wordcloud.recolor(colormap= 'viridis' , random_state=42), alpha=0.98)\n",
    "plt.show()"
   ]
  },
  {
   "cell_type": "code",
   "execution_count": null,
   "id": "afe2ce2d",
   "metadata": {
    "execution": {
     "iopub.execute_input": "2021-12-08T06:05:54.942860Z",
     "iopub.status.busy": "2021-12-08T06:05:54.942215Z",
     "iopub.status.idle": "2021-12-08T06:05:54.948088Z",
     "shell.execute_reply": "2021-12-08T06:05:54.948909Z",
     "shell.execute_reply.started": "2021-12-08T06:00:59.138648Z"
    },
    "papermill": {
     "duration": 0.039487,
     "end_time": "2021-12-08T06:05:54.949155",
     "exception": false,
     "start_time": "2021-12-08T06:05:54.909668",
     "status": "completed"
    },
    "scrolled": false,
    "tags": []
   },
   "outputs": [],
   "source": [
    "print(news_dataset['title'])"
   ]
  },
  {
   "cell_type": "code",
   "execution_count": null,
   "id": "6160e10f",
   "metadata": {},
   "outputs": [],
   "source": [
    "X_text_train, X_text_test, y_text_train, y_text_test = train_test_split(news_dataset[\"title\"], news_dataset[\"label\"])"
   ]
  },
  {
   "cell_type": "markdown",
   "id": "4f569260",
   "metadata": {
    "papermill": {
     "duration": 0.029607,
     "end_time": "2021-12-08T06:05:55.010942",
     "exception": false,
     "start_time": "2021-12-08T06:05:54.981335",
     "status": "completed"
    },
    "tags": []
   },
   "source": [
    "# Modelling"
   ]
  },
  {
   "cell_type": "code",
   "execution_count": null,
   "id": "579b0bf2",
   "metadata": {},
   "outputs": [],
   "source": [
    "def plot_confusion_matrix(cm, classes,\n",
    "                          normalize=False,\n",
    "                          title='Confusion matrix',\n",
    "                          cmap=plt.cm.Blues):\n",
    "    \"\"\"\n",
    "    See full source and example: \n",
    "    http://scikit-learn.org/stable/auto_examples/model_selection/plot_confusion_matrix.html\n",
    "    \n",
    "    This function prints and plots the confusion matrix.\n",
    "    Normalization can be applied by setting `normalize=True`.\n",
    "    \"\"\"\n",
    "    plt.imshow(cm, interpolation='nearest', cmap=cmap)\n",
    "    plt.title(title)\n",
    "    plt.colorbar()\n",
    "    tick_marks = np.arange(len(classes))\n",
    "    plt.xticks(tick_marks, classes, rotation=45)\n",
    "    plt.yticks(tick_marks, classes)\n",
    "    \n",
    "    # Here we print the if confusion matrix is normalized\n",
    "    if normalize:\n",
    "        cm = cm.astype('float') / cm.sum(axis=1)[:, np.newaxis]\n",
    "        print(\"Normalized confusion matrix\")\n",
    "    else:\n",
    "        print('Confusion matrix, without normalization')\n",
    "\n",
    "    # Here we include text that shows confusion matrix values\n",
    "    thresh = cm.max() / 2.\n",
    "    for i, j in itertools.product(range(cm.shape[0]), range(cm.shape[1])):\n",
    "        plt.text(j, i, cm[i, j],\n",
    "                 horizontalalignment=\"center\",\n",
    "                 color=\"white\" if cm[i, j] > thresh else \"black\")\n",
    "\n",
    "    plt.tight_layout()\n",
    "    plt.ylabel('True label')\n",
    "    plt.xlabel('Predicted label')\n"
   ]
  },
  {
   "cell_type": "code",
   "execution_count": null,
   "id": "a1c6e463",
   "metadata": {},
   "outputs": [],
   "source": [
    "def model_report(model, X_test, y_test):\n",
    "    pred = model.predict(X_test)\n",
    "\n",
    "    print(accuracy_score(y_test, pred) * 100)\n",
    "    print(classification_report(y_test, pred))\n",
    "\n",
    "    cm = confusion_matrix(y_test, pred)\n",
    "\n",
    "    plot_confusion_matrix(cm, classes=['Fake News', 'Real News'])"
   ]
  },
  {
   "cell_type": "code",
   "execution_count": null,
   "id": "1cd58548",
   "metadata": {
    "execution": {
     "iopub.execute_input": "2021-12-08T06:05:55.080935Z",
     "iopub.status.busy": "2021-12-08T06:05:55.080153Z",
     "iopub.status.idle": "2021-12-08T06:05:55.083266Z",
     "shell.execute_reply": "2021-12-08T06:05:55.083790Z",
     "shell.execute_reply.started": "2021-12-08T06:00:59.148834Z"
    },
    "papermill": {
     "duration": 0.042514,
     "end_time": "2021-12-08T06:05:55.083998",
     "exception": false,
     "start_time": "2021-12-08T06:05:55.041484",
     "status": "completed"
    },
    "tags": []
   },
   "outputs": [],
   "source": [
    "X = news_dataset['title'].values\n",
    "Y = news_dataset['label'].values"
   ]
  },
  {
   "cell_type": "code",
   "execution_count": null,
   "id": "46bb6fa6",
   "metadata": {
    "execution": {
     "iopub.execute_input": "2021-12-08T06:05:55.147863Z",
     "iopub.status.busy": "2021-12-08T06:05:55.147242Z",
     "iopub.status.idle": "2021-12-08T06:05:55.152881Z",
     "shell.execute_reply": "2021-12-08T06:05:55.153592Z",
     "shell.execute_reply.started": "2021-12-08T06:00:59.163634Z"
    },
    "papermill": {
     "duration": 0.040192,
     "end_time": "2021-12-08T06:05:55.154042",
     "exception": false,
     "start_time": "2021-12-08T06:05:55.113850",
     "status": "completed"
    },
    "tags": []
   },
   "outputs": [],
   "source": [
    "print(X,'\\n\\n\\n\\n',Y)"
   ]
  },
  {
   "cell_type": "code",
   "execution_count": null,
   "id": "0e4e922d",
   "metadata": {
    "execution": {
     "iopub.execute_input": "2021-12-08T06:05:55.221042Z",
     "iopub.status.busy": "2021-12-08T06:05:55.220051Z",
     "iopub.status.idle": "2021-12-08T06:05:55.743965Z",
     "shell.execute_reply": "2021-12-08T06:05:55.744533Z",
     "shell.execute_reply.started": "2021-12-08T06:00:59.180699Z"
    },
    "papermill": {
     "duration": 0.558812,
     "end_time": "2021-12-08T06:05:55.744726",
     "exception": false,
     "start_time": "2021-12-08T06:05:55.185914",
     "status": "completed"
    },
    "tags": []
   },
   "outputs": [],
   "source": [
    "# vectorizer = HashingVectorizer(n_features = 48000, ngram_range = (1, 3))\n",
    "vectorizer = TfidfVectorizer(ngram_range = (1, 3))\n",
    "\n",
    "X = vectorizer.fit_transform(X)"
   ]
  },
  {
   "cell_type": "code",
   "execution_count": null,
   "id": "f75622fa",
   "metadata": {
    "execution": {
     "iopub.execute_input": "2021-12-08T06:05:55.809970Z",
     "iopub.status.busy": "2021-12-08T06:05:55.807515Z",
     "iopub.status.idle": "2021-12-08T06:05:55.828456Z",
     "shell.execute_reply": "2021-12-08T06:05:55.829006Z",
     "shell.execute_reply.started": "2021-12-08T06:00:59.945722Z"
    },
    "papermill": {
     "duration": 0.054459,
     "end_time": "2021-12-08T06:05:55.829205",
     "exception": false,
     "start_time": "2021-12-08T06:05:55.774746",
     "status": "completed"
    },
    "tags": []
   },
   "outputs": [],
   "source": [
    "X_train, X_test, Y_train, Y_test = train_test_split(X, Y, test_size = 0.3, stratify=Y, random_state=42)"
   ]
  },
  {
   "cell_type": "code",
   "execution_count": null,
   "id": "1628a5b0",
   "metadata": {},
   "outputs": [],
   "source": [
    "labels = additional_data.label\n",
    "\n",
    "additional_data = additional_data.drop(columns=[\"label\"])\n",
    "\n",
    "# additional_data[\"title\"] = additional_data[\"title\"].apply(stemming)\n",
    "\n",
    "# tfidf_v = HashingVectorizer(n_features = 48000, ngram_range = (1, 3))"
   ]
  },
  {
   "cell_type": "code",
   "execution_count": null,
   "id": "0af5b3f4",
   "metadata": {},
   "outputs": [],
   "source": [
    "tfidf_v = TfidfVectorizer(ngram_range = (1, 3))\n",
    "\n",
    "\n",
    "X_additional = tfidf_v.fit_transform(additional_data[\"title\"])\n",
    "\n",
    "X_additional_train, X_additional_test, y_additional_train, y_additional_test = train_test_split(X_additional, labels, random_state=0, test_size = 0.1, stratify = labels)"
   ]
  },
  {
   "cell_type": "markdown",
   "id": "e68ac32c",
   "metadata": {},
   "source": [
    "Logreg1"
   ]
  },
  {
   "cell_type": "code",
   "execution_count": null,
   "id": "8ce4fa98",
   "metadata": {
    "execution": {
     "iopub.execute_input": "2021-12-08T06:05:55.897329Z",
     "iopub.status.busy": "2021-12-08T06:05:55.896299Z",
     "iopub.status.idle": "2021-12-08T06:05:56.482578Z",
     "shell.execute_reply": "2021-12-08T06:05:56.483558Z",
     "shell.execute_reply.started": "2021-12-08T06:00:59.976354Z"
    },
    "papermill": {
     "duration": 0.624568,
     "end_time": "2021-12-08T06:05:56.484291",
     "exception": false,
     "start_time": "2021-12-08T06:05:55.859723",
     "status": "completed"
    },
    "tags": []
   },
   "outputs": [],
   "source": [
    "model = LogisticRegression(C = 1e6, max_iter = 10000)\n",
    "model.fit(X_train, Y_train)"
   ]
  },
  {
   "cell_type": "markdown",
   "id": "18d837c2",
   "metadata": {
    "papermill": {
     "duration": 0.048104,
     "end_time": "2021-12-08T06:05:56.602109",
     "exception": false,
     "start_time": "2021-12-08T06:05:56.554005",
     "status": "completed"
    },
    "tags": []
   },
   "source": [
    "# Accuracy Check"
   ]
  },
  {
   "cell_type": "markdown",
   "id": "3c468bd7",
   "metadata": {
    "papermill": {
     "duration": 0.030245,
     "end_time": "2021-12-08T06:05:56.662970",
     "exception": false,
     "start_time": "2021-12-08T06:05:56.632725",
     "status": "completed"
    },
    "tags": []
   },
   "source": [
    "### Training Accuracy "
   ]
  },
  {
   "cell_type": "code",
   "execution_count": null,
   "id": "64422761",
   "metadata": {
    "execution": {
     "iopub.execute_input": "2021-12-08T06:05:56.730486Z",
     "iopub.status.busy": "2021-12-08T06:05:56.729333Z",
     "iopub.status.idle": "2021-12-08T06:05:56.734748Z",
     "shell.execute_reply": "2021-12-08T06:05:56.735346Z",
     "shell.execute_reply.started": "2021-12-08T06:01:00.488829Z"
    },
    "papermill": {
     "duration": 0.041994,
     "end_time": "2021-12-08T06:05:56.735559",
     "exception": false,
     "start_time": "2021-12-08T06:05:56.693565",
     "status": "completed"
    },
    "tags": []
   },
   "outputs": [],
   "source": [
    "X_train_prediction = model.predict(X_train)\n",
    "training_data_accuracy = accuracy_score(X_train_prediction, Y_train)"
   ]
  },
  {
   "cell_type": "code",
   "execution_count": null,
   "id": "c638a757",
   "metadata": {
    "execution": {
     "iopub.execute_input": "2021-12-08T06:05:56.801761Z",
     "iopub.status.busy": "2021-12-08T06:05:56.800669Z",
     "iopub.status.idle": "2021-12-08T06:05:56.806780Z",
     "shell.execute_reply": "2021-12-08T06:05:56.807305Z",
     "shell.execute_reply.started": "2021-12-08T06:01:00.503087Z"
    },
    "papermill": {
     "duration": 0.041564,
     "end_time": "2021-12-08T06:05:56.807529",
     "exception": false,
     "start_time": "2021-12-08T06:05:56.765965",
     "status": "completed"
    },
    "tags": []
   },
   "outputs": [],
   "source": [
    "print('Accuracy score of the training data : ', training_data_accuracy)"
   ]
  },
  {
   "cell_type": "markdown",
   "id": "82c2bc1a",
   "metadata": {
    "papermill": {
     "duration": 0.030697,
     "end_time": "2021-12-08T06:05:56.870002",
     "exception": false,
     "start_time": "2021-12-08T06:05:56.839305",
     "status": "completed"
    },
    "tags": []
   },
   "source": [
    "### Testing Accuracy "
   ]
  },
  {
   "cell_type": "code",
   "execution_count": null,
   "id": "3fdaf07c",
   "metadata": {
    "execution": {
     "iopub.execute_input": "2021-12-08T06:05:56.935130Z",
     "iopub.status.busy": "2021-12-08T06:05:56.934420Z",
     "iopub.status.idle": "2021-12-08T06:05:56.939532Z",
     "shell.execute_reply": "2021-12-08T06:05:56.940084Z",
     "shell.execute_reply.started": "2021-12-08T06:03:39.029688Z"
    },
    "papermill": {
     "duration": 0.039028,
     "end_time": "2021-12-08T06:05:56.940272",
     "exception": false,
     "start_time": "2021-12-08T06:05:56.901244",
     "status": "completed"
    },
    "tags": []
   },
   "outputs": [],
   "source": [
    "X_test_prediction = model.predict(X_test)\n",
    "test_data_accuracy = accuracy_score(X_test_prediction, Y_test)"
   ]
  },
  {
   "cell_type": "code",
   "execution_count": null,
   "id": "4a898548",
   "metadata": {
    "execution": {
     "iopub.execute_input": "2021-12-08T06:05:57.005139Z",
     "iopub.status.busy": "2021-12-08T06:05:57.004417Z",
     "iopub.status.idle": "2021-12-08T06:05:57.008811Z",
     "shell.execute_reply": "2021-12-08T06:05:57.009319Z",
     "shell.execute_reply.started": "2021-12-08T06:03:43.935054Z"
    },
    "papermill": {
     "duration": 0.038674,
     "end_time": "2021-12-08T06:05:57.009514",
     "exception": false,
     "start_time": "2021-12-08T06:05:56.970840",
     "status": "completed"
    },
    "scrolled": true,
    "tags": []
   },
   "outputs": [],
   "source": [
    "print('Accuracy score of the test data : ', test_data_accuracy)"
   ]
  },
  {
   "cell_type": "markdown",
   "id": "387ccce7",
   "metadata": {},
   "source": [
    "### Model report"
   ]
  },
  {
   "cell_type": "code",
   "execution_count": null,
   "id": "84a71ab2",
   "metadata": {},
   "outputs": [],
   "source": [
    "model_report(model, X_test, Y_test)"
   ]
  },
  {
   "cell_type": "code",
   "execution_count": null,
   "id": "64290a66",
   "metadata": {},
   "outputs": [],
   "source": [
    "model_report(model, X_additional[:, :72698], labels)"
   ]
  },
  {
   "cell_type": "markdown",
   "id": "753c7803",
   "metadata": {
    "papermill": {
     "duration": 0.030668,
     "end_time": "2021-12-08T06:05:57.071099",
     "exception": false,
     "start_time": "2021-12-08T06:05:57.040431",
     "status": "completed"
    },
    "tags": []
   },
   "source": [
    "# Model Prediction"
   ]
  },
  {
   "cell_type": "code",
   "execution_count": null,
   "id": "aebacecb",
   "metadata": {
    "execution": {
     "iopub.execute_input": "2021-12-08T06:05:57.137979Z",
     "iopub.status.busy": "2021-12-08T06:05:57.137369Z",
     "iopub.status.idle": "2021-12-08T06:05:57.143113Z",
     "shell.execute_reply": "2021-12-08T06:05:57.143774Z",
     "shell.execute_reply.started": "2021-12-08T06:03:47.750373Z"
    },
    "papermill": {
     "duration": 0.040902,
     "end_time": "2021-12-08T06:05:57.143999",
     "exception": false,
     "start_time": "2021-12-08T06:05:57.103097",
     "status": "completed"
    },
    "tags": []
   },
   "outputs": [],
   "source": [
    "X_new = X_test[1]\n",
    "X_new_2 = X_test[0]\n",
    "\n",
    "X_New_3 = X_test[22]\n",
    "\n",
    "result = model.predict(X_new)\n",
    "result_1 = model.predict(X_new_2)\n",
    "\n",
    "\n",
    "def get_type(prediction):\n",
    "    if (prediction[0]==0):\n",
    "        return 'Real'\n",
    "    else:\n",
    "        return 'Fake'\n",
    "    \n",
    "print(f\"The news is {get_type(result)}\")\n",
    "print(f\"The news is {get_type(result_1)}\")"
   ]
  },
  {
   "cell_type": "code",
   "execution_count": null,
   "id": "be7faaa1",
   "metadata": {},
   "outputs": [],
   "source": [
    "model_report(model, X_test, Y_test)"
   ]
  },
  {
   "cell_type": "code",
   "execution_count": null,
   "id": "7c70f520",
   "metadata": {
    "execution": {
     "iopub.execute_input": "2021-12-08T06:05:57.209988Z",
     "iopub.status.busy": "2021-12-08T06:05:57.209269Z",
     "iopub.status.idle": "2021-12-08T06:05:57.213843Z",
     "shell.execute_reply": "2021-12-08T06:05:57.214391Z",
     "shell.execute_reply.started": "2021-12-08T06:03:48.015214Z"
    },
    "papermill": {
     "duration": 0.039311,
     "end_time": "2021-12-08T06:05:57.214581",
     "exception": false,
     "start_time": "2021-12-08T06:05:57.175270",
     "status": "completed"
    },
    "tags": []
   },
   "outputs": [],
   "source": [
    "print(Y_test[0])"
   ]
  },
  {
   "cell_type": "markdown",
   "id": "097756fd",
   "metadata": {},
   "source": [
    "Decision tree"
   ]
  },
  {
   "cell_type": "code",
   "execution_count": null,
   "id": "502c92e1",
   "metadata": {
    "scrolled": true
   },
   "outputs": [],
   "source": [
    "model2 = DecisionTreeClassifier(random_state = 42)\n",
    "model2.fit(X_train, Y_train)"
   ]
  },
  {
   "cell_type": "code",
   "execution_count": null,
   "id": "aa56b198",
   "metadata": {},
   "outputs": [],
   "source": [
    "X_test_prediction = model2.predict(X_test)\n",
    "test_data_accuracy = accuracy_score(X_test_prediction, Y_test)\n",
    "\n",
    "print('Accuracy score of the test data : ', test_data_accuracy)"
   ]
  },
  {
   "cell_type": "code",
   "execution_count": null,
   "id": "e90a6b1e",
   "metadata": {},
   "outputs": [],
   "source": [
    "X_train_prediction = model2.predict(X_train)\n",
    "training_data_accuracy = accuracy_score(X_train_prediction, Y_train)"
   ]
  },
  {
   "cell_type": "code",
   "execution_count": null,
   "id": "dd2e6bb8",
   "metadata": {},
   "outputs": [],
   "source": [
    "print('Accuracy score of the training data : ', training_data_accuracy)"
   ]
  },
  {
   "cell_type": "code",
   "execution_count": null,
   "id": "8dac65a2",
   "metadata": {},
   "outputs": [],
   "source": [
    "model2.score(X_test, Y_test)"
   ]
  },
  {
   "cell_type": "code",
   "execution_count": null,
   "id": "8f8b750e",
   "metadata": {},
   "outputs": [],
   "source": [
    "pa = PassiveAggressiveClassifier(n_iter_no_change= 50, loss = \"squared_hinge\")\n",
    "pa.fit(X_train, Y_train)"
   ]
  },
  {
   "cell_type": "code",
   "execution_count": null,
   "id": "2d9d6686",
   "metadata": {},
   "outputs": [],
   "source": [
    "model_report(pa, X_test, Y_test)"
   ]
  },
  {
   "cell_type": "code",
   "execution_count": null,
   "id": "f32b95ca",
   "metadata": {
    "scrolled": true
   },
   "outputs": [],
   "source": [
    "fig = plt.figure(figsize=(100, 100))\n",
    "\n",
    "ax = fig.gca()\n",
    "\n",
    "plot_tree(model2, ax=ax)\n",
    "\n",
    "plt.show()"
   ]
  },
  {
   "cell_type": "code",
   "execution_count": null,
   "id": "750e2ef5",
   "metadata": {
    "scrolled": true
   },
   "outputs": [],
   "source": [
    "plot_tree(model2, max_depth=1)\n",
    "\n",
    "plt.show()"
   ]
  },
  {
   "cell_type": "code",
   "execution_count": null,
   "id": "82102231",
   "metadata": {},
   "outputs": [],
   "source": [
    "parameters_PassiveAggressive = {'C': (0.6, 0.8, 1, 1.2, 1.4, 1.6, 1.8, 2.),\n",
    "                                'fit_intercept': (True, False),\n",
    "                                'n_iter_no_change': (1, 2, 3, 5, 8, 13, 21, 50),\n",
    "                                'shuffle': (True, False),\n",
    "                                'loss': ('hinge', 'squared_hinge'),\n",
    "                                'warm_start': (True, False)}\n"
   ]
  },
  {
   "cell_type": "code",
   "execution_count": null,
   "id": "67d8c398",
   "metadata": {},
   "outputs": [],
   "source": [
    "pa_params = HalvingGridSearchCV(PassiveAggressiveClassifier(n_jobs = -1), parameters_PassiveAggressive, verbose=1)\n",
    "pa_params.fit(X_train, Y_train)"
   ]
  },
  {
   "cell_type": "code",
   "execution_count": null,
   "id": "01099caf",
   "metadata": {},
   "outputs": [],
   "source": [
    "pa_best = pa_params.best_estimator_\n",
    "\n",
    "pa_best.fit(X_train, Y_train)"
   ]
  },
  {
   "cell_type": "code",
   "execution_count": null,
   "id": "ba066fb7",
   "metadata": {},
   "outputs": [],
   "source": [
    "model_report(pa_best, X_test, Y_test)"
   ]
  },
  {
   "cell_type": "code",
   "execution_count": null,
   "id": "84aedb1d",
   "metadata": {},
   "outputs": [],
   "source": [
    "model_report(pa, X_additional_test[:, :17128], y_additional_test[:17128])"
   ]
  },
  {
   "cell_type": "code",
   "execution_count": null,
   "id": "01122119",
   "metadata": {},
   "outputs": [],
   "source": [
    "tree_params = {'criterion': ['gini', 'entropy'], 'max_depth': [4, 5, 6, 7, 8, 9, 10, 11, 12, 15,\n",
    "                                                               20, 30, 40, 50, 70, 90, 120, 150], 'splitter': ['best', 'random'], 'random_state': [42, 256]}\n",
    "\n",
    "grid_search = HalvingGridSearchCV(DecisionTreeClassifier(), tree_params)\n",
    "\n",
    "grid_search.fit(X_train, Y_train)\n"
   ]
  },
  {
   "cell_type": "code",
   "execution_count": null,
   "id": "e7104a13",
   "metadata": {},
   "outputs": [],
   "source": [
    "best_tree_params = grid_search.best_params_"
   ]
  },
  {
   "cell_type": "code",
   "execution_count": null,
   "id": "cce2c227",
   "metadata": {},
   "outputs": [],
   "source": [
    "best_tree_params"
   ]
  },
  {
   "cell_type": "code",
   "execution_count": null,
   "id": "fbe93067",
   "metadata": {},
   "outputs": [],
   "source": [
    "tree = DecisionTreeClassifier(max_depth=70, random_state=256,splitter='best')\n",
    "\n",
    "tree.fit(X_train, Y_train)"
   ]
  },
  {
   "cell_type": "code",
   "execution_count": null,
   "id": "e153c04f",
   "metadata": {},
   "outputs": [],
   "source": [
    "model_report(tree, X_test, Y_test)"
   ]
  },
  {
   "cell_type": "code",
   "execution_count": null,
   "id": "9b962c31",
   "metadata": {},
   "outputs": [],
   "source": [
    "parameters_PassiveAggressive = {'C': (0.6, 0.8, 1, 1.2, 1.4, 1.6, 1.8, 2.),\n",
    "                                'fit_intercept': (True, False),\n",
    "                                'n_iter_no_change': (1, 2, 3, 5, 8, 13, 21, 50),\n",
    "                                'shuffle': (True, False),\n",
    "                                'loss': ('hinge', 'squared_hinge'),\n",
    "                                'warm_start': (True, False)}\n"
   ]
  },
  {
   "cell_type": "code",
   "execution_count": null,
   "id": "959751d2",
   "metadata": {},
   "outputs": [],
   "source": [
    "pa_params = HalvingGridSearchCV(PassiveAggressiveClassifier(), parameters_PassiveAggressive, cv = 10)\n",
    "pa_params.fit(X_train, Y_train)"
   ]
  },
  {
   "cell_type": "code",
   "execution_count": null,
   "id": "cb204ff9",
   "metadata": {
    "scrolled": true
   },
   "outputs": [],
   "source": [
    "pa_params.best_params_"
   ]
  },
  {
   "cell_type": "code",
   "execution_count": null,
   "id": "bf883b9d",
   "metadata": {},
   "outputs": [],
   "source": [
    "clf = BaggingClassifier(\n",
    "    base_estimator=PassiveAggressiveClassifier(n_iter_no_change=50, early_stopping=True, random_state = 42),\n",
    "    n_estimators = 1,\n",
    "    random_state = 42,\n",
    ").fit(X_train, Y_train)"
   ]
  },
  {
   "cell_type": "code",
   "execution_count": null,
   "id": "bba25a26",
   "metadata": {},
   "outputs": [],
   "source": [
    "model_report(clf, X_additional_test[:, :17128], y_additional_test)"
   ]
  },
  {
   "cell_type": "code",
   "execution_count": null,
   "id": "084e5edb",
   "metadata": {},
   "outputs": [],
   "source": [
    "perc = Perceptron()\n",
    "\n",
    "perc.fit(X_train, Y_train)"
   ]
  },
  {
   "cell_type": "code",
   "execution_count": null,
   "id": "ab642fbb",
   "metadata": {},
   "outputs": [],
   "source": [
    "model_report(perc, X_test, Y_test)"
   ]
  },
  {
   "cell_type": "code",
   "execution_count": null,
   "id": "deccc38d",
   "metadata": {},
   "outputs": [],
   "source": [
    "sgd = SGDClassifier(loss = 'squared_hinge', random_state = 42, warm_start = True, alpha = .0000000000000001)\n",
    "\n",
    "sgd.partial_fit(X_train, Y_train, classes = [0, 1])\n",
    "\n",
    "sgd.partial_fit(X_additional_train[:, :17128], y_additional_train)"
   ]
  },
  {
   "cell_type": "code",
   "execution_count": null,
   "id": "6abf7741",
   "metadata": {},
   "outputs": [],
   "source": [
    "model_report(sgd, X_test, Y_test)"
   ]
  },
  {
   "cell_type": "code",
   "execution_count": null,
   "id": "da762d89",
   "metadata": {},
   "outputs": [],
   "source": [
    "model_report(sgd, X_additional_test[:, :17128], y_additional_test)"
   ]
  },
  {
   "cell_type": "code",
   "execution_count": null,
   "id": "325833e5",
   "metadata": {},
   "outputs": [],
   "source": [
    "bag_pa = BaggingClassifier(PassiveAggressiveClassifier(random_state = 42), random_state = 42)\n",
    "\n",
    "bag_pa.fit(X_train, Y_train)"
   ]
  },
  {
   "cell_type": "code",
   "execution_count": null,
   "id": "fa2e1708",
   "metadata": {},
   "outputs": [],
   "source": [
    "cal_pa = CalibratedClassifierCV(bag_pa)\n",
    "\n",
    "cal_pa.fit(X_train, Y_train)"
   ]
  },
  {
   "cell_type": "code",
   "execution_count": null,
   "id": "c8612749",
   "metadata": {
    "scrolled": true
   },
   "outputs": [],
   "source": [
    "model_report(cal_pa, X_test, Y_test)"
   ]
  },
  {
   "cell_type": "code",
   "execution_count": null,
   "id": "f59d9100",
   "metadata": {
    "scrolled": true
   },
   "outputs": [],
   "source": [
    "model_report(cal_pa, X_additional_test[:, :17128], y_additional_test)"
   ]
  },
  {
   "cell_type": "code",
   "execution_count": null,
   "id": "cdbf8d08",
   "metadata": {},
   "outputs": [],
   "source": [
    "clf1 = BaggingClassifier(PassiveAggressiveClassifier(random_state = 42)).fit(X_train, Y_train)\n",
    "clf2 = BaggingClassifier(LogisticRegression(random_state = 42)).fit(X_train, Y_train)\n",
    "clf3 = BaggingClassifier(DecisionTreeClassifier(random_state = 42)).fit(X_train, Y_train)\n",
    "clf4 = BaggingClassifier(RidgeClassifier(random_state = 42)).fit(X_train, Y_train)\n",
    "clf5 = BaggingClassifier(SGDClassifier(random_state = 42)).fit(X_train, Y_train)\n",
    "clf6 = BaggingClassifier(Perceptron(random_state = 42)).fit(X_train, Y_train)\n",
    "clf7 = BaggingClassifier(RandomForestClassifier(n_estimators = 50, random_state = 42)).fit(X_train, Y_train)\n",
    "\n",
    "final_clf = BaggingClassifier(AdaBoostClassifier(random_state = 42)).fit(X_train, Y_train)"
   ]
  },
  {
   "cell_type": "code",
   "execution_count": null,
   "id": "a01f8730",
   "metadata": {},
   "outputs": [],
   "source": [
    "stack = StackingClassifier(\n",
    "    estimators = [\n",
    "        ('pa', clf1),\n",
    "        ('lgr', clf2),\n",
    "        ('tree', clf3),\n",
    "        ('ridge', clf4),\n",
    "        ('sgd', clf5),\n",
    "        ('perceptron', clf6),\n",
    "        ('f', clf7),\n",
    "    ],\n",
    "    final_estimator = final_clf,\n",
    "    stack_method = 'predict'\n",
    ")\n",
    "\n",
    "\n",
    "stack.fit(X_train, Y_train)"
   ]
  },
  {
   "cell_type": "code",
   "execution_count": null,
   "id": "80edc34e",
   "metadata": {
    "scrolled": true
   },
   "outputs": [],
   "source": [
    "model_report(stack, X_test, Y_test)"
   ]
  },
  {
   "cell_type": "code",
   "execution_count": null,
   "id": "9d7fc7e4",
   "metadata": {},
   "outputs": [],
   "source": [
    "model_report(stack, X_additional_test[:, :17128], y_additional_test)"
   ]
  },
  {
   "cell_type": "code",
   "execution_count": null,
   "id": "d2adea5b",
   "metadata": {},
   "outputs": [],
   "source": [
    "vote = VotingClassifier(\n",
    "    estimators = [\n",
    "        ('lgr', clf2),\n",
    "        ('tree', clf3),\n",
    "        ('sgd', clf5),\n",
    "        ('perceptron', clf6),\n",
    "        ('f', clf7),\n",
    "    ],\n",
    "    voting = 'soft'\n",
    ")\n",
    "\n",
    "vote.fit(X_train, Y_train)"
   ]
  },
  {
   "cell_type": "code",
   "execution_count": null,
   "id": "f4c530ea",
   "metadata": {},
   "outputs": [],
   "source": [
    "model_report(vote, X_test, Y_test)"
   ]
  },
  {
   "cell_type": "code",
   "execution_count": null,
   "id": "eb4743e4",
   "metadata": {},
   "outputs": [],
   "source": [
    "model_report(vote, X_additional_test[:, :17128], y_additional_test)"
   ]
  },
  {
   "cell_type": "code",
   "execution_count": null,
   "id": "e695b17b",
   "metadata": {},
   "outputs": [],
   "source": [
    "ada = BaggingClassifier(\n",
    "    AdaBoostClassifier(\n",
    "        LogisticRegression(),\n",
    "        random_state = 42,\n",
    "        n_estimators = 100,\n",
    "        learning_rate = 2\n",
    "    ),\n",
    "    random_state = 42\n",
    ").fit(X_train, Y_train)"
   ]
  },
  {
   "cell_type": "code",
   "execution_count": null,
   "id": "dfcdba0d",
   "metadata": {},
   "outputs": [],
   "source": [
    "ada.score(X_test, Y_test)"
   ]
  },
  {
   "cell_type": "code",
   "execution_count": null,
   "id": "4d31b9ef",
   "metadata": {},
   "outputs": [],
   "source": [
    "model_report(ada, X_additional_test[:, :17128], y_additional_test)"
   ]
  },
  {
   "cell_type": "markdown",
   "id": "1e47a6c0",
   "metadata": {},
   "source": [
    "Ridge Classifier CV Test"
   ]
  },
  {
   "cell_type": "code",
   "execution_count": null,
   "id": "d6514ca3",
   "metadata": {},
   "outputs": [],
   "source": [
    "ridge = RidgeClassifier(alpha = 1000)\n",
    "\n",
    "ridge.fit(X_train, Y_train)"
   ]
  },
  {
   "cell_type": "code",
   "execution_count": null,
   "id": "a30740dc",
   "metadata": {
    "scrolled": true
   },
   "outputs": [],
   "source": [
    "model_report(ridge, X_test, Y_test)"
   ]
  },
  {
   "cell_type": "code",
   "execution_count": null,
   "id": "f57b8b10",
   "metadata": {},
   "outputs": [],
   "source": [
    "model2 = LogisticRegression(penalty = 'elasticnet', C = 10e6, solver = 'saga', l1_ratio = 0.3, max_iter = 1000)\n",
    "\n",
    "model2.fit(X_train, Y_train)"
   ]
  },
  {
   "cell_type": "code",
   "execution_count": null,
   "id": "79e1a32c",
   "metadata": {},
   "outputs": [],
   "source": [
    "model_report(model2, X_additional_test[:, :17128], y_additional_test)"
   ]
  },
  {
   "cell_type": "markdown",
   "id": "68a50068",
   "metadata": {},
   "source": [
    "Multinomial NB"
   ]
  },
  {
   "cell_type": "code",
   "execution_count": null,
   "id": "0f8af51c",
   "metadata": {},
   "outputs": [],
   "source": [
    "param_grid = {'alpha': [1e-10, 1e-8, 1e-6, 1e-4, 1e-2, 1e-1, 1, 10, 100, 1e4]}"
   ]
  },
  {
   "cell_type": "code",
   "execution_count": null,
   "id": "e5bcdc28",
   "metadata": {},
   "outputs": [],
   "source": [
    "grid_search_nb = GridSearchCV(MultinomialNB(), param_grid = param_grid, verbose = 3)"
   ]
  },
  {
   "cell_type": "code",
   "execution_count": null,
   "id": "8f2506dc",
   "metadata": {},
   "outputs": [],
   "source": [
    "grid_search_nb.fit(X_train, Y_train)"
   ]
  },
  {
   "cell_type": "code",
   "execution_count": null,
   "id": "d7cab5ab",
   "metadata": {},
   "outputs": [],
   "source": [
    "grid_search_nb.best_params_"
   ]
  },
  {
   "cell_type": "code",
   "execution_count": null,
   "id": "712cb7ad",
   "metadata": {},
   "outputs": [],
   "source": [
    "nb_tuned = MultinomialNB(alpha = 0.1)"
   ]
  },
  {
   "cell_type": "code",
   "execution_count": null,
   "id": "474c3d09",
   "metadata": {},
   "outputs": [],
   "source": [
    "nb_tuned.fit(X_train, Y_train)"
   ]
  },
  {
   "cell_type": "code",
   "execution_count": null,
   "id": "805634e6",
   "metadata": {},
   "outputs": [],
   "source": [
    "model_report(nb_tuned, X_test, Y_test)"
   ]
  },
  {
   "cell_type": "code",
   "execution_count": null,
   "id": "91851f43",
   "metadata": {},
   "outputs": [],
   "source": [
    "model_report(nb_tuned, X_additional_test, y_additional_test)"
   ]
  },
  {
   "cell_type": "code",
   "execution_count": null,
   "id": "5fa4a8bd",
   "metadata": {},
   "outputs": [],
   "source": []
  },
  {
   "cell_type": "code",
   "execution_count": null,
   "id": "e2ccad21",
   "metadata": {},
   "outputs": [],
   "source": [
    "neighbours_grid = {\n",
    "    'n_neighbors': [1, 3, 5, 7, 9, 11],\n",
    "    'weights': ['uniform', 'distance'],\n",
    "    'p': [1, 2],\n",
    "    'leaf_size': [10, 15, 20, 25, 30, 35, 40]\n",
    "}\n",
    "\n",
    "search = HalvingGridSearchCV(KNeighborsClassifier(n_jobs = -1), param_grid = neighbours_grid, verbose = 3)"
   ]
  },
  {
   "cell_type": "code",
   "execution_count": null,
   "id": "b4df108a",
   "metadata": {},
   "outputs": [],
   "source": [
    "search.fit(X_train, Y_train)"
   ]
  },
  {
   "cell_type": "code",
   "execution_count": null,
   "id": "d49aaf88",
   "metadata": {},
   "outputs": [],
   "source": [
    "search.best_params_"
   ]
  },
  {
   "cell_type": "code",
   "execution_count": null,
   "id": "49bd28c8",
   "metadata": {},
   "outputs": [],
   "source": [
    "clf = KNeighborsClassifier(n_neighbors = 9, weights = 'distance')"
   ]
  },
  {
   "cell_type": "code",
   "execution_count": null,
   "id": "be9e0208",
   "metadata": {},
   "outputs": [],
   "source": [
    "clf.fit(X_train, Y_train)"
   ]
  },
  {
   "cell_type": "code",
   "execution_count": null,
   "id": "294fd189",
   "metadata": {},
   "outputs": [],
   "source": [
    "model_report(clf, X_test, Y_test)"
   ]
  },
  {
   "cell_type": "code",
   "execution_count": null,
   "id": "5f404285",
   "metadata": {},
   "outputs": [],
   "source": [
    "model_report(clf, X_additional_test, y_additional_test)"
   ]
  },
  {
   "cell_type": "code",
   "execution_count": null,
   "id": "d248fdf2",
   "metadata": {},
   "outputs": [],
   "source": [
    "model_report(clf, X_additional, labels)"
   ]
  },
  {
   "cell_type": "code",
   "execution_count": null,
   "id": "a2c24be4",
   "metadata": {},
   "outputs": [],
   "source": [
    "graph = clf.kneighbors_graph().toarray()"
   ]
  },
  {
   "cell_type": "code",
   "execution_count": null,
   "id": "7cfa0be9",
   "metadata": {},
   "outputs": [],
   "source": [
    "graph.shape"
   ]
  },
  {
   "cell_type": "markdown",
   "id": "f3248d4e",
   "metadata": {},
   "source": [
    "## LinearSVC"
   ]
  },
  {
   "cell_type": "code",
   "execution_count": null,
   "id": "f77622de",
   "metadata": {},
   "outputs": [],
   "source": [
    "linsvc = LinearSVC(random_state = 42, tol = 1e-9)"
   ]
  },
  {
   "cell_type": "code",
   "execution_count": null,
   "id": "20158a69",
   "metadata": {},
   "outputs": [],
   "source": [
    "linsvc_grid = {\n",
    "    'penalty': ['l1', 'l2'],\n",
    "    'loss': ['hinge', 'squared_hinge'],\n",
    "    'fit_intercept': [True, False],\n",
    "    'class_weight': [None, 'balanced'],\n",
    "    'C': [1e-4, 1e-2, 1e-1, 1, 10, 1e2, 1e4],\n",
    "    'max_iter': [1000, 1500, 2000, 2500, 3000]\n",
    "}\n",
    "\n",
    "linear_svc_tuner = HalvingGridSearchCV(\n",
    "    LinearSVC(random_state = 42),\n",
    "    linsvc_grid,\n",
    "    random_state = 42,\n",
    "    verbose = 3,\n",
    "    error_score = 0,\n",
    "    scoring = 'roc_auc'\n",
    ")"
   ]
  },
  {
   "cell_type": "code",
   "execution_count": null,
   "id": "b3edf185",
   "metadata": {},
   "outputs": [],
   "source": [
    "linear_svc_tuner.fit(X_train, Y_train)"
   ]
  },
  {
   "cell_type": "code",
   "execution_count": null,
   "id": "8350fb54",
   "metadata": {
    "scrolled": true
   },
   "outputs": [],
   "source": [
    "linear_svc_tuner.best_params_"
   ]
  },
  {
   "cell_type": "code",
   "execution_count": null,
   "id": "0dbb2b56",
   "metadata": {},
   "outputs": [],
   "source": [
    "linsvc.fit(X_train, Y_train)"
   ]
  },
  {
   "cell_type": "code",
   "execution_count": null,
   "id": "99128201",
   "metadata": {},
   "outputs": [],
   "source": [
    "model_report(linsvc, X_additional, labels)"
   ]
  },
  {
   "cell_type": "markdown",
   "id": "a8a01d3f",
   "metadata": {},
   "source": [
    "## Best model"
   ]
  },
  {
   "cell_type": "code",
   "execution_count": null,
   "id": "740f6c33",
   "metadata": {},
   "outputs": [],
   "source": [
    "linsvc_with_best_params = LinearSVC(\n",
    "    C = 1,\n",
    "    class_weight = 'balanced',\n",
    "    fit_intercept = False,\n",
    "    loss = 'squared_hinge',\n",
    "    max_iter = 2000,\n",
    "    penalty = 'l2',\n",
    "    random_state = 42\n",
    ")"
   ]
  },
  {
   "cell_type": "code",
   "execution_count": null,
   "id": "28088ec5",
   "metadata": {},
   "outputs": [],
   "source": [
    "linsvc_with_best_params.fit(X_train, Y_train)"
   ]
  },
  {
   "cell_type": "code",
   "execution_count": null,
   "id": "59691009",
   "metadata": {},
   "outputs": [],
   "source": [
    "linsvc_with_best_params.score(X_test, Y_test)"
   ]
  },
  {
   "cell_type": "code",
   "execution_count": null,
   "id": "215aa862",
   "metadata": {},
   "outputs": [],
   "source": [
    "RocCurveDisplay.from_estimator(linsvc_with_best_params, X_test, Y_test)"
   ]
  },
  {
   "cell_type": "code",
   "execution_count": null,
   "id": "18bb85f8",
   "metadata": {},
   "outputs": [],
   "source": [
    "linsvc_with_best_params.score(X_additional, labels)"
   ]
  },
  {
   "cell_type": "code",
   "execution_count": null,
   "id": "bed81b59",
   "metadata": {
    "scrolled": true
   },
   "outputs": [],
   "source": [
    "model_report(linsvc_with_best_params, X_additional, labels)"
   ]
  },
  {
   "cell_type": "markdown",
   "id": "4acd748a",
   "metadata": {},
   "source": [
    "### Creating pipeline for fake news classification"
   ]
  },
  {
   "cell_type": "code",
   "execution_count": null,
   "id": "6ba9fc5a",
   "metadata": {},
   "outputs": [],
   "source": [
    "class TextNormalizer(BaseEstimator, TransformerMixin):\n",
    "    \"\"\"\n",
    "    Does lemmatization and stopwords removal.\n",
    "    \"\"\"\n",
    "    def __init__(self):\n",
    "        self.stopwords = stopwords.words(\"english\")\n",
    "    \n",
    "    def normalize(self, document):\n",
    "        lemma = WordNetLemmatizer()\n",
    "        stemmed_content = re.sub('[^a-zA-Z]',' ', document)\n",
    "        stemmed_content = stemmed_content.lower()\n",
    "        stemmed_content = stemmed_content.strip()\n",
    "        stemmed_content = stemmed_content.split()\n",
    "        stemmed_content = [lemma.lemmatize(word) for word in stemmed_content if not word in self.stopwords]\n",
    "        stemmed_content = ' '.join(stemmed_content)\n",
    "\n",
    "        return stemmed_content\n",
    "\n",
    "    def fit(self, X, y=None):\n",
    "        return self\n",
    "\n",
    "    def transform(self, documents):\n",
    "        result = []\n",
    "        for document in documents:\n",
    "            result.append(self.normalize(document))\n",
    "        \n",
    "        return result"
   ]
  },
  {
   "cell_type": "code",
   "execution_count": null,
   "id": "0a5aa3f6",
   "metadata": {},
   "outputs": [],
   "source": [
    "fake_news_pipeline = Pipeline(\n",
    "    steps = [\n",
    "        ('lemmatization', TextNormalizer()),\n",
    "        ('hashing', HashingVectorizer(n_features = 48000, ngram_range = (1, 3))),\n",
    "        ('classifier', LinearSVC(class_weight = 'balanced', fit_intercept = False, max_iter = 2000, random_state = 42))\n",
    "    ]\n",
    ")"
   ]
  },
  {
   "cell_type": "code",
   "execution_count": null,
   "id": "ece53677",
   "metadata": {},
   "outputs": [],
   "source": [
    "fake_news_pipeline.fit(X_text_train, y_text_train)"
   ]
  },
  {
   "cell_type": "code",
   "execution_count": null,
   "id": "c9e7d2b2",
   "metadata": {
    "scrolled": true
   },
   "outputs": [],
   "source": [
    "sample = news_dataset.sample(50, random_state = 42)\n",
    "\n",
    "titles = sample[\"title\"]\n",
    "\n",
    "labels = sample[\"label\"]\n",
    "\n",
    "predictions = fake_news_pipeline.predict(titles)\n",
    "\n",
    "model_report(fake_news_pipeline, titles, labels)"
   ]
  },
  {
   "cell_type": "code",
   "execution_count": null,
   "id": "205be571",
   "metadata": {},
   "outputs": [],
   "source": [
    "model_report(fake_news_pipeline, titles, labels)"
   ]
  },
  {
   "cell_type": "markdown",
   "id": "6f62df53",
   "metadata": {},
   "source": [
    "### Perceptron\n",
    "\n",
    "\n",
    "The Perceptron is a simple classification algorithm suitable for large scale learning. By default:\n",
    "\n",
    "* It does not require a learning rate.\n",
    "\n",
    "* It is not regularized (penalized).\n",
    "\n",
    "* It updates its model only on mistakes.\n",
    "\n",
    "The last characteristic implies that the Perceptron is slightly faster to train than SGD with the hinge loss and that the resulting models are sparser."
   ]
  },
  {
   "cell_type": "code",
   "execution_count": null,
   "id": "48c258b4",
   "metadata": {},
   "outputs": [],
   "source": [
    "perc_grid = {\n",
    "    'penalty': [None, 'l1', 'l2', 'elasticnet'],\n",
    "    'alpha': [1e-2, 1e-1, 1, 10, 100],\n",
    "    'fit_intercept': [True, False],\n",
    "    'shuffle': [True, False],\n",
    "    'class_weight': [None, 'balanced']\n",
    "}"
   ]
  },
  {
   "cell_type": "code",
   "execution_count": null,
   "id": "412a78fc",
   "metadata": {},
   "outputs": [],
   "source": [
    "perc_search = HalvingRandomSearchCV(Perceptron(random_state = 42), perc_grid, error_score = 0, scoring = 'f1', verbose = 3, random_state = 42)"
   ]
  },
  {
   "cell_type": "code",
   "execution_count": null,
   "id": "a745d7bc",
   "metadata": {},
   "outputs": [],
   "source": [
    "perc_search.fit(X_train_more, y_train_more)"
   ]
  },
  {
   "cell_type": "code",
   "execution_count": null,
   "id": "098e654f",
   "metadata": {},
   "outputs": [],
   "source": [
    "perc_search.best_params_"
   ]
  },
  {
   "cell_type": "code",
   "execution_count": null,
   "id": "e3d14fe9",
   "metadata": {},
   "outputs": [],
   "source": [
    "perc_best = Perceptron(**perc_search.best_params_, random_state = 42)"
   ]
  },
  {
   "cell_type": "code",
   "execution_count": null,
   "id": "2c4d68ee",
   "metadata": {},
   "outputs": [],
   "source": [
    "perc_pipe = Pipeline(\n",
    "    steps = [\n",
    "        ('lemmatization', TextNormalizer()),\n",
    "        ('hashing', HashingVectorizer(n_features = HASHING_N_FEATURES, ngram_range = (1, 5))),\n",
    "        ('selection', RFE(Perceptron(random_state = 42), n_features_to_select = FEATURE_SELECTION_MAX_FEATURES, step = 10000)),\n",
    "        ('perceptron', perc_best)\n",
    "    ],\n",
    "    verbose = 3\n",
    ")"
   ]
  },
  {
   "cell_type": "code",
   "execution_count": null,
   "id": "dae359c2",
   "metadata": {},
   "outputs": [],
   "source": [
    "perc_pipe.fit(X_text_train, y_text_train)"
   ]
  },
  {
   "cell_type": "code",
   "execution_count": null,
   "id": "373e37ed",
   "metadata": {},
   "outputs": [],
   "source": [
    "perc_pipe.score(X_additional_text_test, y_additional_text_test)"
   ]
  },
  {
   "cell_type": "code",
   "execution_count": null,
   "id": "c1ebef92",
   "metadata": {},
   "outputs": [],
   "source": [
    "perc_pipe.score(X_text_test, y_text_test)"
   ]
  },
  {
   "cell_type": "code",
   "execution_count": null,
   "id": "f9bb74b5",
   "metadata": {},
   "outputs": [],
   "source": [
    "model_report(perc_pipe, X_text_test, y_text_test)"
   ]
  },
  {
   "cell_type": "markdown",
   "id": "5e39ce34",
   "metadata": {},
   "source": [
    "### SGD"
   ]
  },
  {
   "cell_type": "code",
   "execution_count": null,
   "id": "4ddc34c6",
   "metadata": {},
   "outputs": [],
   "source": [
    "sgd = SGDClassifier(\n",
    "    loss = 'modified_huber',\n",
    "    penalty = 'none',\n",
    "    learning_rate = 'adaptive',\n",
    "    eta0 = 100,\n",
    "    random_state = 42,\n",
    "    early_stopping = True\n",
    ")"
   ]
  },
  {
   "cell_type": "code",
   "execution_count": null,
   "id": "b20ae35e",
   "metadata": {},
   "outputs": [],
   "source": [
    "sgd_pipe = Pipeline(\n",
    "    steps = [\n",
    "        ('lemmatization', TextNormalizer()),\n",
    "        ('hashing', HashingVectorizer(n_features = HASHING_N_FEATURES, ngram_range = (1, 5), norm = None)),\n",
    "        ('selection', RFE(sgd, n_features_to_select = FEATURE_SELECTION_MAX_FEATURES, step = 10000)),\n",
    "        ('sgd', sgd)\n",
    "    ],\n",
    "    memory = 'cache',\n",
    "    verbose = 3\n",
    ")"
   ]
  },
  {
   "cell_type": "code",
   "execution_count": null,
   "id": "6c6b56c5",
   "metadata": {},
   "outputs": [],
   "source": [
    "sgd_pipe.fit(X_text_train, y_text_train)"
   ]
  },
  {
   "cell_type": "code",
   "execution_count": null,
   "id": "f7696233",
   "metadata": {},
   "outputs": [],
   "source": [
    "sgd_pipe.score(X_additional_text_test, y_additional_text_test)"
   ]
  },
  {
   "cell_type": "markdown",
   "id": "6da60e3e",
   "metadata": {},
   "source": [
    "### MLP"
   ]
  },
  {
   "cell_type": "code",
   "execution_count": null,
   "id": "0727f6a5",
   "metadata": {},
   "outputs": [],
   "source": [
    "from sklearn.neural_network import MLPClassifier"
   ]
  },
  {
   "cell_type": "code",
   "execution_count": null,
   "id": "5ac159b8",
   "metadata": {
    "scrolled": true
   },
   "outputs": [],
   "source": [
    "mlp = MLPClassifier(\n",
    "    verbose = 3,\n",
    "    hidden_layer_sizes = (10),\n",
    "    random_state = 42,\n",
    "    nesterovs_momentum = True,\n",
    "    max_iter = 10\n",
    ")"
   ]
  },
  {
   "cell_type": "code",
   "execution_count": null,
   "id": "9fe94cca",
   "metadata": {
    "scrolled": true
   },
   "outputs": [],
   "source": [
    "mlp_pipe = Pipeline(\n",
    "    steps = [\n",
    "        ('lemmatization', TextNormalizer()),\n",
    "        ('hashing', HashingVectorizer(n_features = 100000, ngram_range = (1, 3))),\n",
    "#         ('selection', RFE(Perceptron(random_state = 42), n_features_to_select = FEATURE_SELECTION_MAX_FEATURES, step = 10000)),\n",
    "        ('mlp', mlp)\n",
    "    ],\n",
    "    memory = 'cache',\n",
    "    verbose = 3\n",
    ")"
   ]
  },
  {
   "cell_type": "code",
   "execution_count": null,
   "id": "5333b919",
   "metadata": {},
   "outputs": [],
   "source": [
    "mlp_pipe.fit(X_text_train, y_text_train)"
   ]
  },
  {
   "cell_type": "code",
   "execution_count": null,
   "id": "47633506",
   "metadata": {},
   "outputs": [],
   "source": [
    "mlp_pipe.score(additional_data[\"title\"], labels)"
   ]
  },
  {
   "cell_type": "markdown",
   "id": "11563ce8",
   "metadata": {},
   "source": [
    "### Comprasion of Perceptron, SGD and MLP"
   ]
  },
  {
   "cell_type": "code",
   "execution_count": null,
   "id": "d0d69a90",
   "metadata": {},
   "outputs": [],
   "source": [
    "from sklearn.metrics import f1_score, accuracy_score, log_loss"
   ]
  },
  {
   "cell_type": "code",
   "execution_count": null,
   "id": "9c23cd80",
   "metadata": {},
   "outputs": [],
   "source": [
    "print('Perc f1: ')\n",
    "print(f1_score(y_additional_text_test, perc_pipe.predict(X_additional_text_test)))\n",
    "print('SGD f1: ')\n",
    "print(f1_score(y_additional_text_test, sgd_pipe.predict(X_additional_text_test)))\n",
    "print('MLP f1: ')\n",
    "print(f1_score(y_additional_text_test, mlp_pipe.predict(X_additional_text_test)))\n",
    "print('')\n",
    "print('Perc Acc: ')\n",
    "print(accuracy_score(y_additional_text_test, perc_pipe.predict(X_additional_text_test)))\n",
    "print('SGD Acc: ')\n",
    "print(accuracy_score(y_additional_text_test, sgd_pipe.predict(X_additional_text_test)))\n",
    "print('MLP Acc: ')\n",
    "print(accuracy_score(y_additional_text_test, mlp_pipe.predict(X_additional_text_test)))\n",
    "print('')\n",
    "print('Perc LogLoss: ')\n",
    "print(log_loss(y_additional_text_test, perc_pipe.predict(X_additional_text_test)))\n",
    "print('SGD LogLoss: ')\n",
    "print(log_loss(y_additional_text_test, sgd_pipe.predict(X_additional_text_test)))\n",
    "print('MLP LogLoss: ')\n",
    "print(log_loss(y_additional_text_test, mlp_pipe.predict(X_additional_text_test)))"
   ]
  },
  {
   "cell_type": "markdown",
   "id": "8146c1be",
   "metadata": {},
   "source": [
    "## LinearSVC and Naive Bayes with CountVectorizer"
   ]
  },
  {
   "cell_type": "markdown",
   "id": "7d1faf49",
   "metadata": {},
   "source": [
    "### LinearSVC"
   ]
  },
  {
   "cell_type": "code",
   "execution_count": null,
   "id": "b2464b05",
   "metadata": {},
   "outputs": [],
   "source": [
    "from sklearn.feature_extraction.text import TfidfTransformer, CountVectorizer"
   ]
  },
  {
   "cell_type": "code",
   "execution_count": null,
   "id": "7a17e7c4",
   "metadata": {},
   "outputs": [],
   "source": [
    "linsvc_tfidf_pipe = Pipeline(\n",
    "    steps = [\n",
    "        ('normalizer', TextNormalizer()),\n",
    "        ('count_vect', CountVectorizer(ngram_range = (1, 5))),\n",
    "        ('tf-idf', TfidfTransformer(use_idf = False, sublinear_tf = True)),\n",
    "#         ('model', MultinomialNB(alpha = 0.001))\n",
    "        ('model', LinearSVC(random_state = 42, class_weight = 'balanced'))\n",
    "    ],\n",
    "    verbose = 3\n",
    ")"
   ]
  },
  {
   "cell_type": "code",
   "execution_count": null,
   "id": "66eac48e",
   "metadata": {},
   "outputs": [],
   "source": [
    "linsvc_tfidf_pipe.fit(X_text_train, y_text_train)"
   ]
  },
  {
   "cell_type": "code",
   "execution_count": null,
   "id": "4307437c",
   "metadata": {},
   "outputs": [],
   "source": [
    "linsvc_tfidf_pipe.score(X_text_test, y_text_test)"
   ]
  },
  {
   "cell_type": "code",
   "execution_count": null,
   "id": "c83740fb",
   "metadata": {},
   "outputs": [],
   "source": [
    "linsvc_tfidf_pipe.score(X_additional_text_test, y_additional_text_test)"
   ]
  },
  {
   "cell_type": "markdown",
   "id": "0035db39",
   "metadata": {},
   "source": [
    "### Naive Bayes"
   ]
  },
  {
   "cell_type": "code",
   "execution_count": null,
   "id": "ddabb93f",
   "metadata": {},
   "outputs": [],
   "source": [
    "nb_tfidf_pipe = Pipeline(\n",
    "    steps = [\n",
    "        ('normalizer', TextNormalizer()),\n",
    "        ('count_vect', CountVectorizer(ngram_range = (1, 5))),\n",
    "        ('tf-idf', TfidfTransformer(use_idf = False, sublinear_tf = True)),\n",
    "        ('model', MultinomialNB(alpha = 0.001))\n",
    "    ],\n",
    "    verbose = 3\n",
    ")"
   ]
  },
  {
   "cell_type": "code",
   "execution_count": null,
   "id": "49b6695f",
   "metadata": {},
   "outputs": [],
   "source": [
    "nb_tfidf_pipe.fit(X_text_train, y_text_train)"
   ]
  },
  {
   "cell_type": "code",
   "execution_count": null,
   "id": "4ed1f040",
   "metadata": {},
   "outputs": [],
   "source": [
    "nb_tfidf_pipe.score(X_additional_text_test, y_additional_text_test)"
   ]
  },
  {
   "cell_type": "code",
   "execution_count": null,
   "id": "01f23f5b",
   "metadata": {},
   "outputs": [],
   "source": []
  }
 ],
 "metadata": {
  "kernelspec": {
   "display_name": "Python 3 (ipykernel)",
   "language": "python",
   "name": "python3"
  },
  "language_info": {
   "codemirror_mode": {
    "name": "ipython",
    "version": 3
   },
   "file_extension": ".py",
   "mimetype": "text/x-python",
   "name": "python",
   "nbconvert_exporter": "python",
   "pygments_lexer": "ipython3",
   "version": "3.9.13"
  },
  "papermill": {
   "default_parameters": {},
   "duration": 59.593419,
   "end_time": "2021-12-08T06:05:58.321273",
   "environment_variables": {},
   "exception": null,
   "input_path": "__notebook__.ipynb",
   "output_path": "__notebook__.ipynb",
   "parameters": {},
   "start_time": "2021-12-08T06:04:58.727854",
   "version": "2.3.3"
  }
 },
 "nbformat": 4,
 "nbformat_minor": 5
}
